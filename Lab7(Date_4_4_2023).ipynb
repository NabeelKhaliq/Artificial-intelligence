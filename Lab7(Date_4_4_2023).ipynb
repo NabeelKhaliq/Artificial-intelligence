{
  "nbformat": 4,
  "nbformat_minor": 0,
  "metadata": {
    "colab": {
      "provenance": []
    },
    "kernelspec": {
      "name": "python3",
      "display_name": "Python 3"
    },
    "language_info": {
      "name": "python"
    }
  },
  "cells": [
    {
      "cell_type": "code",
      "execution_count": 7,
      "metadata": {
        "colab": {
          "base_uri": "https://localhost:8080/"
        },
        "id": "ZfY5sXDFD13u",
        "outputId": "ac5fa552-e006-433a-9d68-a607cfe01dd1"
      },
      "outputs": [
        {
          "output_type": "stream",
          "name": "stdout",
          "text": [
            "Following is the Breadth-First Search\n",
            "5 3 7 2 4 8 "
          ]
        }
      ],
      "source": [
        "graph = {\n",
        "\n",
        "'5' : ['3','7'],\n",
        "\n",
        "'3' : ['2', '4'],\n",
        "\n",
        "'7' : ['8'],\n",
        "\n",
        "'2' : [],\n",
        "\n",
        "'4' : ['8'],\n",
        "\n",
        "'8' : []\n",
        "\n",
        "}\n",
        "\n",
        "visited = [] \n",
        "\n",
        "queue = []     \n",
        "\n",
        "def bfs(visited, graph, node): \n",
        "\n",
        " visited.append(node)\n",
        " queue.append(node)\n",
        "\n",
        " while queue:\n",
        "\n",
        "    m = queue.pop(0)\n",
        "\n",
        "    print (m, end = \" \")\n",
        "\n",
        "    for neighbour in graph[m]:\n",
        "\n",
        "     if neighbour not in visited: \n",
        "       visited.append(neighbour) \n",
        "       queue.append(neighbour)\n",
        "\n",
        "\n",
        "\n",
        "print(\"Following is the Breadth-First Search\")\n",
        "\n",
        "bfs(visited, graph, '5')    \n"
      ]
    },
    {
      "cell_type": "code",
      "source": [
        "graph = {'A' : ['B','E','C'],'B' : ['D','E','A'],'E' : ['D','B','A'],'C' : ['F','G'],'D' : ['B','E'],'F' : ['C'],'G' : ['C']}\n",
        "\n",
        "visited = [] \n",
        "\n",
        "queue = []     \n",
        "\n",
        "def bfs(visited, graph, node): \n",
        "\n",
        " visited.append(node)\n",
        " queue.append(node)\n",
        "\n",
        " while queue:\n",
        "\n",
        "    m = queue.pop(0)\n",
        "\n",
        "    print (m, end = \" \")\n",
        "\n",
        "    for neighbour in graph[m]:\n",
        "\n",
        "     if neighbour not in visited: \n",
        "       visited.append(neighbour) \n",
        "       queue.append(neighbour)\n",
        "\n",
        "\n",
        "\n",
        "print(\"Following is the Breadth-First Search\")\n",
        "\n",
        "bfs(visited, graph, 'A')    \n"
      ],
      "metadata": {
        "colab": {
          "base_uri": "https://localhost:8080/"
        },
        "id": "tPniC2YMO8mx",
        "outputId": "12bde25d-7a5e-462c-8a27-9d1ccfe7d443"
      },
      "execution_count": 8,
      "outputs": [
        {
          "output_type": "stream",
          "name": "stdout",
          "text": [
            "Following is the Breadth-First Search\n",
            "A B E C D F G "
          ]
        }
      ]
    }
  ]
}