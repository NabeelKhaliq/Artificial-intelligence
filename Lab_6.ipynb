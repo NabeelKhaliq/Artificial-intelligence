{
  "nbformat": 4,
  "nbformat_minor": 0,
  "metadata": {
    "colab": {
      "provenance": []
    },
    "kernelspec": {
      "name": "python3",
      "display_name": "Python 3"
    },
    "language_info": {
      "name": "python"
    }
  },
  "cells": [
    {
      "cell_type": "code",
      "execution_count": 1,
      "metadata": {
        "colab": {
          "base_uri": "https://localhost:8080/"
        },
        "id": "Il4qi2RUENBR",
        "outputId": "dbb0880e-69b6-4d93-971c-975cce23e28f"
      },
      "outputs": [
        {
          "output_type": "stream",
          "name": "stdout",
          "text": [
            "{0, 1, 2, 7, 8, 9}\n",
            "{0, 1, 2, 7, 8, 9}\n",
            "{0, 1, 2, 7, 8, 9}\n",
            "{0, 1, 2, 7, 8, 9}\n",
            "{0, 1, 2, 7, 8, 9}\n"
          ]
        }
      ],
      "source": [
        "def symmDiff(a,b):\n",
        "    e=set()\n",
        "    for i in a:\n",
        "        if i not in b:\n",
        "            e.add(i)\n",
        "    for i in b:\n",
        "        if i  not in a:\n",
        "            e.add(i)\n",
        "    return(e)\n",
        "\n",
        "set1={0,1,2,4,5}\n",
        "set2={4,5,7,8,9}\n",
        "print(symmDiff(set1,set2))\n",
        "\n",
        "print(set1.symmetric_difference(set2))\n",
        "print(set2.symmetric_difference(set1))\n",
        "print(set1^set2)\n",
        "print(set2^set1)\n"
      ]
    },
    {
      "cell_type": "code",
      "source": [
        "def symmDiff(a,b,c):\n",
        "    e=set()\n",
        "    for i in a:\n",
        "        if i not in b:\n",
        "            e.add(i)\n",
        "    for i in b:\n",
        "        if i  not in a:\n",
        "            e.add(i)\n",
        "    for i in c:\n",
        "        if i not in b:\n",
        "             e.add(i)\n",
        "    for i in c:\n",
        "        if i not in a:\n",
        "             e.add(i) \n",
        "    for i in a:\n",
        "        if i not in c:\n",
        "             e.add(i) \n",
        "    for i in b:\n",
        "        if i not in c:\n",
        "             e.add(i)                        \n",
        "\n",
        "    return(e)\n",
        "\n",
        "set1={0,1,2,4,5}\n",
        "set2={4,5,7,8,9}\n",
        "set3={3,4,2,1,6}\n",
        "print(symmDiff(set1,set2,set3))\n",
        "print(set1.symmetric_difference(set2))\n",
        "print(set2.symmetric_difference(set1))\n",
        "print(set1.symmetric_difference(set3))\n",
        "print(set2.symmetric_difference(set3))\n",
        "print(set3.symmetric_difference(set2))\n",
        "print(set3.symmetric_difference(set1))\n",
        "print(set1^set2)\n",
        "print(set2^set1)\n",
        "print(set1^set3)\n",
        "print(set2^set3)\n",
        "print(set3^set2)\n",
        "print(set3^set1)\n"
      ],
      "metadata": {
        "colab": {
          "base_uri": "https://localhost:8080/"
        },
        "id": "ENperumrJI0g",
        "outputId": "0bfb4306-f667-42a5-f74d-17c0f11d16e0"
      },
      "execution_count": 2,
      "outputs": [
        {
          "output_type": "stream",
          "name": "stdout",
          "text": [
            "{0, 1, 2, 3, 5, 6, 7, 8, 9}\n",
            "{0, 1, 2, 7, 8, 9}\n",
            "{0, 1, 2, 7, 8, 9}\n",
            "{0, 3, 5, 6}\n",
            "{1, 2, 3, 5, 6, 7, 8, 9}\n",
            "{1, 2, 3, 5, 6, 7, 8, 9}\n",
            "{0, 3, 5, 6}\n",
            "{0, 1, 2, 7, 8, 9}\n",
            "{0, 1, 2, 7, 8, 9}\n",
            "{0, 3, 5, 6}\n",
            "{1, 2, 3, 5, 6, 7, 8, 9}\n",
            "{1, 2, 3, 5, 6, 7, 8, 9}\n",
            "{0, 3, 5, 6}\n"
          ]
        }
      ]
    },
    {
      "cell_type": "code",
      "source": [
        "sample={(\"Nabeel\",\"Khaliq\"):\"4567892233\",(\"Kamaran\",\"Ali\"):\"4555932082\",(\"Hamza\",\"Zain\"):\"45678567\"}\n",
        "firstname = input(\"enter first name.. \")\n",
        "lastname = input(\"enter second name..\")\n",
        "searchTuple = (firstname, lastname)\n",
        "if searchTuple in sample:\n",
        "    print(sample[searchTuple])\n",
        "else:\n",
        "    print(\"name not found here: \")\n"
      ],
      "metadata": {
        "colab": {
          "base_uri": "https://localhost:8080/"
        },
        "id": "_ByvfrIHSf34",
        "outputId": "a8141d1f-7197-4560-a4a6-bb862dcf011a"
      },
      "execution_count": 4,
      "outputs": [
        {
          "output_type": "stream",
          "name": "stdout",
          "text": [
            "enter first name.. NAbeel\n",
            "enter second name..Khaliq\n",
            "name not found here: \n"
          ]
        }
      ]
    },
    {
      "cell_type": "code",
      "source": [
        "sample={(\"Nabeel\",\"Khaliq\"):\"4567892233\" \" Luddan\",(\"Kamaran\",\"Ali\"):\"4555932082\" \" Vehari\",(\"Hamza\",\"Zain\"):\"45678567\" \" Burewala\"}\n",
        "firstname = input(\"Enter First Name.. \")\n",
        "lastname = input(\"Enter Last Name..\")\n",
        "searchTuple = (firstname, lastname)\n",
        "if searchTuple in sample:\n",
        "    print(sample[searchTuple])\n",
        "else:\n",
        "    print(\"name not found here: \")\n"
      ],
      "metadata": {
        "colab": {
          "base_uri": "https://localhost:8080/"
        },
        "id": "gCQlxS5SVTpg",
        "outputId": "a382df2a-66e8-4292-ecc3-08d65ee56934"
      },
      "execution_count": 6,
      "outputs": [
        {
          "output_type": "stream",
          "name": "stdout",
          "text": [
            "Enter First Name.. Nabeel\n",
            "Enter Last Name..Khaliq\n",
            "4567892233 Luddan\n"
          ]
        }
      ]
    }
  ]
}