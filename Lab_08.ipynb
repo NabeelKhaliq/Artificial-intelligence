{
  "cells": [
    {
      "cell_type": "markdown",
      "source": [
        "Nabeel FA20-BSE-018"
      ],
      "metadata": {
        "id": "UvaukHdLetIh"
      }
    },
    {
      "cell_type": "code",
      "source": [
        "class Node:\n",
        "  def __init__(self,state,parent,actions,totalCost):\n",
        "    self.state = state\n",
        "    self.parent = parent\n",
        "    self.actions = actions\n",
        "    self.totalCost = totalCost\n",
        "graph = {    \n",
        "    'A':Node('A',None,['B','C','E'],None),\n",
        "    'B':Node('B',None,['A','D','E'],None),\n",
        "    'C':Node('C',None,['A','F','G'],None),\n",
        "    'D':Node('D',None,['B','E'],None),\n",
        "    'E':Node('E',None,['A','B','D'],None),\n",
        "    'F':Node('F',None,['C'],None),\n",
        "    'G':Node('G',None,['C'],None),\n",
        "}\n",
        "def acionSequence(graph, initialState,goalState):\n",
        "  solution = [goalState]\n",
        "  currentParent = graph[goalState].parent\n",
        "  while currentParent != None:\n",
        "    solution.append(currentParent)\n",
        "    currentParent = graph[currentParent].parent\n",
        "  solution.reverse()\n",
        "  print(solution)\n",
        "  return solution\n",
        "def BFS():\n",
        "  initialState = 'A'\n",
        "  goalState = 'D'\n",
        "  frontier = [initialState]\n",
        "  explored = []\n",
        "  \n",
        "    while len(frontier)!=0:\n",
        "    currentNode = frontier.pop(0)\n",
        "    explored.append(currentNode)\n",
        "    for child in graph[currentNode].actions:\n",
        "      if child not in frontier and child not in explored:\n",
        "        graph[child].parent = currentNode\n",
        "        if graph[child].state == goalState:\n",
        "          return acionSequence(graph,initialState,goalState)\n",
        "        frontier.append(child)\n",
        "solution = BFS()"
      ],
      "metadata": {
        "id": "2mzsIfuPdTMm",
        "outputId": "6bfb7639-e815-43f0-ccb6-f7e651178747",
        "colab": {
          "base_uri": "https://localhost:8080/"
        }
      },
      "execution_count": 36,
      "outputs": [
        {
          "output_type": "stream",
          "name": "stdout",
          "text": [
            "['A', 'B', 'D']\n"
          ]
        }
      ]
    },
    {
      "cell_type": "markdown",
      "source": [],
      "metadata": {
        "id": "g90gVhYGepWT"
      }
    },
    {
      "cell_type": "markdown",
      "source": [],
      "metadata": {
        "id": "TCSnXf6Geksg"
      }
    }
  ],
  "metadata": {
    "colab": {
      "provenance": []
    },
    "kernelspec": {
      "display_name": "Python 3",
      "name": "python3"
    },
    "language_info": {
      "name": "python"
    }
  },
  "nbformat": 4,
  "nbformat_minor": 0
}